{
  "nbformat": 4,
  "nbformat_minor": 0,
  "metadata": {
    "colab": {
      "name": "SeverityPrediction.ipynb",
      "provenance": [],
      "collapsed_sections": []
    },
    "kernelspec": {
      "name": "python3",
      "display_name": "Python 3"
    }
  },
  "cells": [
    {
      "cell_type": "markdown",
      "metadata": {
        "id": "qRDESlILewd4"
      },
      "source": [
        "\n",
        "#**Tema projekta: Analiza tezine saobracajnih nezgoda**"
      ]
    },
    {
      "cell_type": "markdown",
      "metadata": {
        "id": "YunXaDqXfA3w"
      },
      "source": [
        "**Ucitavanje potrebnih biblioteka za rad**"
      ]
    },
    {
      "cell_type": "code",
      "metadata": {
        "id": "slsG7rq6esbR"
      },
      "source": [
        "import pandas as pd\n",
        "import numpy as np\n",
        "import seaborn as sns\n",
        "import matplotlib.pyplot as plt\n",
        "from google.colab import drive"
      ],
      "execution_count": null,
      "outputs": []
    },
    {
      "cell_type": "markdown",
      "metadata": {
        "id": "Bi8QC7bJfI4Q"
      },
      "source": [
        "**Ucitavanje i prikaz ulaznih podataka**\n",
        "\n",
        "Ulazni podaci predstavljaju informacije o saobracajnim nezgodama koje su se dogadjale u periodu 2016-2020. godine u SAD. Sastoji se od 49 kolona koje predstavljaju obelezja i oko 3.5 miliona vrsta koje predstavljaju merenja. Obelezja koja su koriscena u ovom datasetu su tezina saobracajne nesrece, pocetak nesrece, kraj nesrece, distanca, opis nesrece, ulica, drzava, grad, temperatura, uticaj vetra, pritisak, smer vetra, brzina vetra, vremenski uslovi, uticaj guzve, doba dana, zalaska i izlaska Sunca, astronomskih i nautickih uticaja itd."
      ]
    },
    {
      "cell_type": "code",
      "metadata": {
        "colab": {
          "base_uri": "https://localhost:8080/",
          "height": 547
        },
        "id": "mdiu1K-IfJXy",
        "outputId": "7be2f05f-42f9-44fd-cb03-1836a1c9de25"
      },
      "source": [
        "drive.mount('/content/drive')\n",
        "podaci=pd.read_csv('/content/drive/My Drive/US_Accidents_June20.csv')\n",
        "podaci.head()"
      ],
      "execution_count": null,
      "outputs": [
        {
          "output_type": "stream",
          "text": [
            "Drive already mounted at /content/drive; to attempt to forcibly remount, call drive.mount(\"/content/drive\", force_remount=True).\n"
          ],
          "name": "stdout"
        },
        {
          "output_type": "execute_result",
          "data": {
            "text/html": [
              "<div>\n",
              "<style scoped>\n",
              "    .dataframe tbody tr th:only-of-type {\n",
              "        vertical-align: middle;\n",
              "    }\n",
              "\n",
              "    .dataframe tbody tr th {\n",
              "        vertical-align: top;\n",
              "    }\n",
              "\n",
              "    .dataframe thead th {\n",
              "        text-align: right;\n",
              "    }\n",
              "</style>\n",
              "<table border=\"1\" class=\"dataframe\">\n",
              "  <thead>\n",
              "    <tr style=\"text-align: right;\">\n",
              "      <th></th>\n",
              "      <th>ID</th>\n",
              "      <th>Source</th>\n",
              "      <th>TMC</th>\n",
              "      <th>Severity</th>\n",
              "      <th>Start_Time</th>\n",
              "      <th>End_Time</th>\n",
              "      <th>Start_Lat</th>\n",
              "      <th>Start_Lng</th>\n",
              "      <th>End_Lat</th>\n",
              "      <th>End_Lng</th>\n",
              "      <th>Distance(mi)</th>\n",
              "      <th>Description</th>\n",
              "      <th>Number</th>\n",
              "      <th>Street</th>\n",
              "      <th>Side</th>\n",
              "      <th>City</th>\n",
              "      <th>County</th>\n",
              "      <th>State</th>\n",
              "      <th>Zipcode</th>\n",
              "      <th>Country</th>\n",
              "      <th>Timezone</th>\n",
              "      <th>Airport_Code</th>\n",
              "      <th>Weather_Timestamp</th>\n",
              "      <th>Temperature(F)</th>\n",
              "      <th>Wind_Chill(F)</th>\n",
              "      <th>Humidity(%)</th>\n",
              "      <th>Pressure(in)</th>\n",
              "      <th>Visibility(mi)</th>\n",
              "      <th>Wind_Direction</th>\n",
              "      <th>Wind_Speed(mph)</th>\n",
              "      <th>Precipitation(in)</th>\n",
              "      <th>Weather_Condition</th>\n",
              "      <th>Amenity</th>\n",
              "      <th>Bump</th>\n",
              "      <th>Crossing</th>\n",
              "      <th>Give_Way</th>\n",
              "      <th>Junction</th>\n",
              "      <th>No_Exit</th>\n",
              "      <th>Railway</th>\n",
              "      <th>Roundabout</th>\n",
              "      <th>Station</th>\n",
              "      <th>Stop</th>\n",
              "      <th>Traffic_Calming</th>\n",
              "      <th>Traffic_Signal</th>\n",
              "      <th>Turning_Loop</th>\n",
              "      <th>Sunrise_Sunset</th>\n",
              "      <th>Civil_Twilight</th>\n",
              "      <th>Nautical_Twilight</th>\n",
              "      <th>Astronomical_Twilight</th>\n",
              "    </tr>\n",
              "  </thead>\n",
              "  <tbody>\n",
              "    <tr>\n",
              "      <th>0</th>\n",
              "      <td>A-1</td>\n",
              "      <td>MapQuest</td>\n",
              "      <td>201.0</td>\n",
              "      <td>3</td>\n",
              "      <td>2016-02-08 05:46:00</td>\n",
              "      <td>2016-02-08 11:00:00</td>\n",
              "      <td>39.865147</td>\n",
              "      <td>-84.058723</td>\n",
              "      <td>NaN</td>\n",
              "      <td>NaN</td>\n",
              "      <td>0.01</td>\n",
              "      <td>Right lane blocked due to accident on I-70 Eas...</td>\n",
              "      <td>NaN</td>\n",
              "      <td>I-70 E</td>\n",
              "      <td>R</td>\n",
              "      <td>Dayton</td>\n",
              "      <td>Montgomery</td>\n",
              "      <td>OH</td>\n",
              "      <td>45424</td>\n",
              "      <td>US</td>\n",
              "      <td>US/Eastern</td>\n",
              "      <td>KFFO</td>\n",
              "      <td>2016-02-08 05:58:00</td>\n",
              "      <td>36.9</td>\n",
              "      <td>NaN</td>\n",
              "      <td>91.0</td>\n",
              "      <td>29.68</td>\n",
              "      <td>10.0</td>\n",
              "      <td>Calm</td>\n",
              "      <td>NaN</td>\n",
              "      <td>0.02</td>\n",
              "      <td>Light Rain</td>\n",
              "      <td>False</td>\n",
              "      <td>False</td>\n",
              "      <td>False</td>\n",
              "      <td>False</td>\n",
              "      <td>False</td>\n",
              "      <td>False</td>\n",
              "      <td>False</td>\n",
              "      <td>False</td>\n",
              "      <td>False</td>\n",
              "      <td>False</td>\n",
              "      <td>False</td>\n",
              "      <td>False</td>\n",
              "      <td>False</td>\n",
              "      <td>Night</td>\n",
              "      <td>Night</td>\n",
              "      <td>Night</td>\n",
              "      <td>Night</td>\n",
              "    </tr>\n",
              "    <tr>\n",
              "      <th>1</th>\n",
              "      <td>A-2</td>\n",
              "      <td>MapQuest</td>\n",
              "      <td>201.0</td>\n",
              "      <td>2</td>\n",
              "      <td>2016-02-08 06:07:59</td>\n",
              "      <td>2016-02-08 06:37:59</td>\n",
              "      <td>39.928059</td>\n",
              "      <td>-82.831184</td>\n",
              "      <td>NaN</td>\n",
              "      <td>NaN</td>\n",
              "      <td>0.01</td>\n",
              "      <td>Accident on Brice Rd at Tussing Rd. Expect del...</td>\n",
              "      <td>2584.0</td>\n",
              "      <td>Brice Rd</td>\n",
              "      <td>L</td>\n",
              "      <td>Reynoldsburg</td>\n",
              "      <td>Franklin</td>\n",
              "      <td>OH</td>\n",
              "      <td>43068-3402</td>\n",
              "      <td>US</td>\n",
              "      <td>US/Eastern</td>\n",
              "      <td>KCMH</td>\n",
              "      <td>2016-02-08 05:51:00</td>\n",
              "      <td>37.9</td>\n",
              "      <td>NaN</td>\n",
              "      <td>100.0</td>\n",
              "      <td>29.65</td>\n",
              "      <td>10.0</td>\n",
              "      <td>Calm</td>\n",
              "      <td>NaN</td>\n",
              "      <td>0.00</td>\n",
              "      <td>Light Rain</td>\n",
              "      <td>False</td>\n",
              "      <td>False</td>\n",
              "      <td>False</td>\n",
              "      <td>False</td>\n",
              "      <td>False</td>\n",
              "      <td>False</td>\n",
              "      <td>False</td>\n",
              "      <td>False</td>\n",
              "      <td>False</td>\n",
              "      <td>False</td>\n",
              "      <td>False</td>\n",
              "      <td>False</td>\n",
              "      <td>False</td>\n",
              "      <td>Night</td>\n",
              "      <td>Night</td>\n",
              "      <td>Night</td>\n",
              "      <td>Day</td>\n",
              "    </tr>\n",
              "    <tr>\n",
              "      <th>2</th>\n",
              "      <td>A-3</td>\n",
              "      <td>MapQuest</td>\n",
              "      <td>201.0</td>\n",
              "      <td>2</td>\n",
              "      <td>2016-02-08 06:49:27</td>\n",
              "      <td>2016-02-08 07:19:27</td>\n",
              "      <td>39.063148</td>\n",
              "      <td>-84.032608</td>\n",
              "      <td>NaN</td>\n",
              "      <td>NaN</td>\n",
              "      <td>0.01</td>\n",
              "      <td>Accident on OH-32 State Route 32 Westbound at ...</td>\n",
              "      <td>NaN</td>\n",
              "      <td>State Route 32</td>\n",
              "      <td>R</td>\n",
              "      <td>Williamsburg</td>\n",
              "      <td>Clermont</td>\n",
              "      <td>OH</td>\n",
              "      <td>45176</td>\n",
              "      <td>US</td>\n",
              "      <td>US/Eastern</td>\n",
              "      <td>KI69</td>\n",
              "      <td>2016-02-08 06:56:00</td>\n",
              "      <td>36.0</td>\n",
              "      <td>33.3</td>\n",
              "      <td>100.0</td>\n",
              "      <td>29.67</td>\n",
              "      <td>10.0</td>\n",
              "      <td>SW</td>\n",
              "      <td>3.5</td>\n",
              "      <td>NaN</td>\n",
              "      <td>Overcast</td>\n",
              "      <td>False</td>\n",
              "      <td>False</td>\n",
              "      <td>False</td>\n",
              "      <td>False</td>\n",
              "      <td>False</td>\n",
              "      <td>False</td>\n",
              "      <td>False</td>\n",
              "      <td>False</td>\n",
              "      <td>False</td>\n",
              "      <td>False</td>\n",
              "      <td>False</td>\n",
              "      <td>True</td>\n",
              "      <td>False</td>\n",
              "      <td>Night</td>\n",
              "      <td>Night</td>\n",
              "      <td>Day</td>\n",
              "      <td>Day</td>\n",
              "    </tr>\n",
              "    <tr>\n",
              "      <th>3</th>\n",
              "      <td>A-4</td>\n",
              "      <td>MapQuest</td>\n",
              "      <td>201.0</td>\n",
              "      <td>3</td>\n",
              "      <td>2016-02-08 07:23:34</td>\n",
              "      <td>2016-02-08 07:53:34</td>\n",
              "      <td>39.747753</td>\n",
              "      <td>-84.205582</td>\n",
              "      <td>NaN</td>\n",
              "      <td>NaN</td>\n",
              "      <td>0.01</td>\n",
              "      <td>Accident on I-75 Southbound at Exits 52 52B US...</td>\n",
              "      <td>NaN</td>\n",
              "      <td>I-75 S</td>\n",
              "      <td>R</td>\n",
              "      <td>Dayton</td>\n",
              "      <td>Montgomery</td>\n",
              "      <td>OH</td>\n",
              "      <td>45417</td>\n",
              "      <td>US</td>\n",
              "      <td>US/Eastern</td>\n",
              "      <td>KDAY</td>\n",
              "      <td>2016-02-08 07:38:00</td>\n",
              "      <td>35.1</td>\n",
              "      <td>31.0</td>\n",
              "      <td>96.0</td>\n",
              "      <td>29.64</td>\n",
              "      <td>9.0</td>\n",
              "      <td>SW</td>\n",
              "      <td>4.6</td>\n",
              "      <td>NaN</td>\n",
              "      <td>Mostly Cloudy</td>\n",
              "      <td>False</td>\n",
              "      <td>False</td>\n",
              "      <td>False</td>\n",
              "      <td>False</td>\n",
              "      <td>False</td>\n",
              "      <td>False</td>\n",
              "      <td>False</td>\n",
              "      <td>False</td>\n",
              "      <td>False</td>\n",
              "      <td>False</td>\n",
              "      <td>False</td>\n",
              "      <td>False</td>\n",
              "      <td>False</td>\n",
              "      <td>Night</td>\n",
              "      <td>Day</td>\n",
              "      <td>Day</td>\n",
              "      <td>Day</td>\n",
              "    </tr>\n",
              "    <tr>\n",
              "      <th>4</th>\n",
              "      <td>A-5</td>\n",
              "      <td>MapQuest</td>\n",
              "      <td>201.0</td>\n",
              "      <td>2</td>\n",
              "      <td>2016-02-08 07:39:07</td>\n",
              "      <td>2016-02-08 08:09:07</td>\n",
              "      <td>39.627781</td>\n",
              "      <td>-84.188354</td>\n",
              "      <td>NaN</td>\n",
              "      <td>NaN</td>\n",
              "      <td>0.01</td>\n",
              "      <td>Accident on McEwen Rd at OH-725 Miamisburg Cen...</td>\n",
              "      <td>NaN</td>\n",
              "      <td>Miamisburg Centerville Rd</td>\n",
              "      <td>R</td>\n",
              "      <td>Dayton</td>\n",
              "      <td>Montgomery</td>\n",
              "      <td>OH</td>\n",
              "      <td>45459</td>\n",
              "      <td>US</td>\n",
              "      <td>US/Eastern</td>\n",
              "      <td>KMGY</td>\n",
              "      <td>2016-02-08 07:53:00</td>\n",
              "      <td>36.0</td>\n",
              "      <td>33.3</td>\n",
              "      <td>89.0</td>\n",
              "      <td>29.65</td>\n",
              "      <td>6.0</td>\n",
              "      <td>SW</td>\n",
              "      <td>3.5</td>\n",
              "      <td>NaN</td>\n",
              "      <td>Mostly Cloudy</td>\n",
              "      <td>False</td>\n",
              "      <td>False</td>\n",
              "      <td>False</td>\n",
              "      <td>False</td>\n",
              "      <td>False</td>\n",
              "      <td>False</td>\n",
              "      <td>False</td>\n",
              "      <td>False</td>\n",
              "      <td>False</td>\n",
              "      <td>False</td>\n",
              "      <td>False</td>\n",
              "      <td>True</td>\n",
              "      <td>False</td>\n",
              "      <td>Day</td>\n",
              "      <td>Day</td>\n",
              "      <td>Day</td>\n",
              "      <td>Day</td>\n",
              "    </tr>\n",
              "  </tbody>\n",
              "</table>\n",
              "</div>"
            ],
            "text/plain": [
              "    ID    Source    TMC  ...  Civil_Twilight Nautical_Twilight Astronomical_Twilight\n",
              "0  A-1  MapQuest  201.0  ...           Night             Night                 Night\n",
              "1  A-2  MapQuest  201.0  ...           Night             Night                   Day\n",
              "2  A-3  MapQuest  201.0  ...           Night               Day                   Day\n",
              "3  A-4  MapQuest  201.0  ...             Day               Day                   Day\n",
              "4  A-5  MapQuest  201.0  ...             Day               Day                   Day\n",
              "\n",
              "[5 rows x 49 columns]"
            ]
          },
          "metadata": {
            "tags": []
          },
          "execution_count": 3
        }
      ]
    },
    {
      "cell_type": "markdown",
      "metadata": {
        "id": "ITQmKirLTp_C"
      },
      "source": [
        "**Prikaz strukture obelezja**\n",
        "\n",
        "U nastavku mozemo videti spisak svih obelezja, kao i tip podataka koje svako obelezje predstavlja. Podaci su mesoviti, imamo podatke tipa object, float, integer i boolean."
      ]
    },
    {
      "cell_type": "code",
      "metadata": {
        "colab": {
          "base_uri": "https://localhost:8080/"
        },
        "id": "KY6mjn0AkB3f",
        "outputId": "f35afa14-8fca-48ce-cc99-dce3ba556ffc"
      },
      "source": [
        "podaci.info()"
      ],
      "execution_count": null,
      "outputs": [
        {
          "output_type": "stream",
          "text": [
            "<class 'pandas.core.frame.DataFrame'>\n",
            "RangeIndex: 3513740 entries, 0 to 3513739\n",
            "Data columns (total 49 columns):\n",
            " #   Column                 Dtype  \n",
            "---  ------                 -----  \n",
            " 0   ID                     object \n",
            " 1   Source                 object \n",
            " 2   TMC                    float64\n",
            " 3   Severity               int64  \n",
            " 4   Start_Time             object \n",
            " 5   End_Time               object \n",
            " 6   Start_Lat              float64\n",
            " 7   Start_Lng              float64\n",
            " 8   End_Lat                float64\n",
            " 9   End_Lng                float64\n",
            " 10  Distance(mi)           float64\n",
            " 11  Description            object \n",
            " 12  Number                 float64\n",
            " 13  Street                 object \n",
            " 14  Side                   object \n",
            " 15  City                   object \n",
            " 16  County                 object \n",
            " 17  State                  object \n",
            " 18  Zipcode                object \n",
            " 19  Country                object \n",
            " 20  Timezone               object \n",
            " 21  Airport_Code           object \n",
            " 22  Weather_Timestamp      object \n",
            " 23  Temperature(F)         float64\n",
            " 24  Wind_Chill(F)          float64\n",
            " 25  Humidity(%)            float64\n",
            " 26  Pressure(in)           float64\n",
            " 27  Visibility(mi)         float64\n",
            " 28  Wind_Direction         object \n",
            " 29  Wind_Speed(mph)        float64\n",
            " 30  Precipitation(in)      float64\n",
            " 31  Weather_Condition      object \n",
            " 32  Amenity                bool   \n",
            " 33  Bump                   bool   \n",
            " 34  Crossing               bool   \n",
            " 35  Give_Way               bool   \n",
            " 36  Junction               bool   \n",
            " 37  No_Exit                bool   \n",
            " 38  Railway                bool   \n",
            " 39  Roundabout             bool   \n",
            " 40  Station                bool   \n",
            " 41  Stop                   bool   \n",
            " 42  Traffic_Calming        bool   \n",
            " 43  Traffic_Signal         bool   \n",
            " 44  Turning_Loop           bool   \n",
            " 45  Sunrise_Sunset         object \n",
            " 46  Civil_Twilight         object \n",
            " 47  Nautical_Twilight      object \n",
            " 48  Astronomical_Twilight  object \n",
            "dtypes: bool(13), float64(14), int64(1), object(21)\n",
            "memory usage: 1008.6+ MB\n"
          ],
          "name": "stdout"
        }
      ]
    },
    {
      "cell_type": "markdown",
      "metadata": {
        "id": "4SOaYYsoURIS"
      },
      "source": [
        "#Ciscenje podataka i odabir obelezja\n",
        "\n",
        "Najpre, pre nego sto pristupimo izradi algoritama, potrebno je pripremiti podatke, odosno izvrsiti pretprocesiranje podataka. Najpre cemo izbrojati koliko svako od obelezja ima null vrednosti, posto nam te vrednosti nisu od interesa, izbacicemo ih u daljoj obradi."
      ]
    },
    {
      "cell_type": "code",
      "metadata": {
        "colab": {
          "base_uri": "https://localhost:8080/"
        },
        "id": "gSWxghOIlms2",
        "outputId": "d4aebe0f-58f4-41ab-f7f3-61c07c097092"
      },
      "source": [
        "podaci.isna().sum()"
      ],
      "execution_count": null,
      "outputs": [
        {
          "output_type": "execute_result",
          "data": {
            "text/plain": [
              "ID                             0\n",
              "Source                         0\n",
              "TMC                      1034922\n",
              "Severity                       0\n",
              "Start_Time                     0\n",
              "End_Time                       0\n",
              "Start_Lat                      0\n",
              "Start_Lng                      0\n",
              "End_Lat                  2478818\n",
              "End_Lng                  2478818\n",
              "Distance(mi)                   0\n",
              "Description                    1\n",
              "Number                   2262954\n",
              "Street                         0\n",
              "Side                           0\n",
              "City                         112\n",
              "County                         0\n",
              "State                          0\n",
              "Zipcode                     1069\n",
              "Country                        0\n",
              "Timezone                    3880\n",
              "Airport_Code                6758\n",
              "Weather_Timestamp          43325\n",
              "Temperature(F)             65736\n",
              "Wind_Chill(F)            1868256\n",
              "Humidity(%)                69691\n",
              "Pressure(in)               55884\n",
              "Visibility(mi)             75861\n",
              "Wind_Direction             58877\n",
              "Wind_Speed(mph)           454613\n",
              "Precipitation(in)        2025881\n",
              "Weather_Condition          76143\n",
              "Amenity                        0\n",
              "Bump                           0\n",
              "Crossing                       0\n",
              "Give_Way                       0\n",
              "Junction                       0\n",
              "No_Exit                        0\n",
              "Railway                        0\n",
              "Roundabout                     0\n",
              "Station                        0\n",
              "Stop                           0\n",
              "Traffic_Calming                0\n",
              "Traffic_Signal                 0\n",
              "Turning_Loop                   0\n",
              "Sunrise_Sunset               116\n",
              "Civil_Twilight               116\n",
              "Nautical_Twilight            116\n",
              "Astronomical_Twilight        116\n",
              "dtype: int64"
            ]
          },
          "metadata": {
            "tags": []
          },
          "execution_count": 6
        }
      ]
    },
    {
      "cell_type": "markdown",
      "metadata": {
        "id": "17UFFMl9VUHj"
      },
      "source": [
        "Izbacujemo ona obelezja koja imaju najvise null vrednosti i vrsimo prikaz preostalih obelezja jer je njihova informativnost jako mala, veliki je procenat vrednosti koje ne mozemo iskoristiti, pa u cilju smanjenja kolicine podataka, redukcije dimenzija, neka obelezja se izbacuju."
      ]
    },
    {
      "cell_type": "code",
      "metadata": {
        "colab": {
          "base_uri": "https://localhost:8080/"
        },
        "id": "w51kMB0gmYqn",
        "outputId": "274ce5cf-ba8c-4ac0-ebc5-da01977020e7"
      },
      "source": [
        "podaci.drop(['TMC','End_Lat','End_Lng','Number','Wind_Chill(F)','Weather_Timestamp','Precipitation(in)','Wind_Speed(mph)','Pressure(in)','Wind_Direction','Description','Zipcode','Country','Timezone','Airport_Code','Civil_Twilight','Nautical_Twilight','Astronomical_Twilight'],axis=1,inplace=True)\n",
        "podaci.drop(['Source'],axis=1,inplace=True)\n",
        "podaci.isna().sum()"
      ],
      "execution_count": null,
      "outputs": [
        {
          "output_type": "execute_result",
          "data": {
            "text/plain": [
              "ID                       0\n",
              "Severity                 0\n",
              "Start_Time               0\n",
              "End_Time                 0\n",
              "Start_Lat                0\n",
              "Start_Lng                0\n",
              "Distance(mi)             0\n",
              "Street                   0\n",
              "Side                     0\n",
              "City                   112\n",
              "County                   0\n",
              "State                    0\n",
              "Temperature(F)       65736\n",
              "Humidity(%)          69691\n",
              "Visibility(mi)       75861\n",
              "Weather_Condition    76143\n",
              "Amenity                  0\n",
              "Bump                     0\n",
              "Crossing                 0\n",
              "Give_Way                 0\n",
              "Junction                 0\n",
              "No_Exit                  0\n",
              "Railway                  0\n",
              "Roundabout               0\n",
              "Station                  0\n",
              "Stop                     0\n",
              "Traffic_Calming          0\n",
              "Traffic_Signal           0\n",
              "Turning_Loop             0\n",
              "Sunrise_Sunset         116\n",
              "dtype: int64"
            ]
          },
          "metadata": {
            "tags": []
          },
          "execution_count": 7
        }
      ]
    },
    {
      "cell_type": "markdown",
      "metadata": {
        "id": "uhRkF_61VqWq"
      },
      "source": [
        "Od preostalih obelezja, posto je procenat null vrednosti dosta manji nego kod vec odstranjenih obelezja, ostatak obelezja moze koristiti u predikciji tako sto ce samo one null vrednosti biti izbrisane, a ostatak podataka ce biti na raspolaganju jer nam ostaje dosta veliki broj podataka kojim mozemo baratati, vise od 3 miliona merenja za svako obelezje. To se moze obaviti uz pomoc funkcije **dropna()** gde mozemo videti da nam je preostalo 38 obelezja i 3414370 merenja."
      ]
    },
    {
      "cell_type": "code",
      "metadata": {
        "colab": {
          "base_uri": "https://localhost:8080/"
        },
        "id": "y_hI7S_Wps_V",
        "outputId": "186195a6-79e9-4d7c-dfd2-7142e800104f"
      },
      "source": [
        "podaci.dropna(axis=0, how='any',inplace=True)\n",
        "podaci.shape"
      ],
      "execution_count": null,
      "outputs": [
        {
          "output_type": "execute_result",
          "data": {
            "text/plain": [
              "(3414371, 30)"
            ]
          },
          "metadata": {
            "tags": []
          },
          "execution_count": 8
        }
      ]
    },
    {
      "cell_type": "markdown",
      "metadata": {
        "id": "rVuSKfIJWi_s"
      },
      "source": [
        "Posto je na raspolaganju pocetno vreme i krajnje vreme nesrece, moze se napraviti vestacko obelezje koje govori o trajanju saobracajne nesrece tako sto ce se oduzeti krajnje i pocetno vreme za svako merenje sto se moze videti daljem kodu."
      ]
    },
    {
      "cell_type": "code",
      "metadata": {
        "colab": {
          "base_uri": "https://localhost:8080/",
          "height": 326
        },
        "id": "yysjC1ZKp8M2",
        "outputId": "60bcce3d-43e5-410a-af1e-c59e78361bdf"
      },
      "source": [
        "podaci['Duration'] = (pd.to_datetime(podaci['End_Time'])-pd.to_datetime(podaci['Start_Time'])).astype('timedelta64[m]')\n",
        "podaci.drop(['Start_Time','End_Time'],axis=1,inplace=True)\n",
        "podaci.head()"
      ],
      "execution_count": null,
      "outputs": [
        {
          "output_type": "execute_result",
          "data": {
            "text/html": [
              "<div>\n",
              "<style scoped>\n",
              "    .dataframe tbody tr th:only-of-type {\n",
              "        vertical-align: middle;\n",
              "    }\n",
              "\n",
              "    .dataframe tbody tr th {\n",
              "        vertical-align: top;\n",
              "    }\n",
              "\n",
              "    .dataframe thead th {\n",
              "        text-align: right;\n",
              "    }\n",
              "</style>\n",
              "<table border=\"1\" class=\"dataframe\">\n",
              "  <thead>\n",
              "    <tr style=\"text-align: right;\">\n",
              "      <th></th>\n",
              "      <th>ID</th>\n",
              "      <th>Severity</th>\n",
              "      <th>Start_Lat</th>\n",
              "      <th>Start_Lng</th>\n",
              "      <th>Distance(mi)</th>\n",
              "      <th>Street</th>\n",
              "      <th>Side</th>\n",
              "      <th>City</th>\n",
              "      <th>County</th>\n",
              "      <th>State</th>\n",
              "      <th>Temperature(F)</th>\n",
              "      <th>Humidity(%)</th>\n",
              "      <th>Visibility(mi)</th>\n",
              "      <th>Weather_Condition</th>\n",
              "      <th>Amenity</th>\n",
              "      <th>Bump</th>\n",
              "      <th>Crossing</th>\n",
              "      <th>Give_Way</th>\n",
              "      <th>Junction</th>\n",
              "      <th>No_Exit</th>\n",
              "      <th>Railway</th>\n",
              "      <th>Roundabout</th>\n",
              "      <th>Station</th>\n",
              "      <th>Stop</th>\n",
              "      <th>Traffic_Calming</th>\n",
              "      <th>Traffic_Signal</th>\n",
              "      <th>Turning_Loop</th>\n",
              "      <th>Sunrise_Sunset</th>\n",
              "      <th>Duration</th>\n",
              "    </tr>\n",
              "  </thead>\n",
              "  <tbody>\n",
              "    <tr>\n",
              "      <th>0</th>\n",
              "      <td>A-1</td>\n",
              "      <td>3</td>\n",
              "      <td>39.865147</td>\n",
              "      <td>-84.058723</td>\n",
              "      <td>0.01</td>\n",
              "      <td>I-70 E</td>\n",
              "      <td>R</td>\n",
              "      <td>Dayton</td>\n",
              "      <td>Montgomery</td>\n",
              "      <td>OH</td>\n",
              "      <td>36.9</td>\n",
              "      <td>91.0</td>\n",
              "      <td>10.0</td>\n",
              "      <td>Light Rain</td>\n",
              "      <td>False</td>\n",
              "      <td>False</td>\n",
              "      <td>False</td>\n",
              "      <td>False</td>\n",
              "      <td>False</td>\n",
              "      <td>False</td>\n",
              "      <td>False</td>\n",
              "      <td>False</td>\n",
              "      <td>False</td>\n",
              "      <td>False</td>\n",
              "      <td>False</td>\n",
              "      <td>False</td>\n",
              "      <td>False</td>\n",
              "      <td>Night</td>\n",
              "      <td>314.0</td>\n",
              "    </tr>\n",
              "    <tr>\n",
              "      <th>1</th>\n",
              "      <td>A-2</td>\n",
              "      <td>2</td>\n",
              "      <td>39.928059</td>\n",
              "      <td>-82.831184</td>\n",
              "      <td>0.01</td>\n",
              "      <td>Brice Rd</td>\n",
              "      <td>L</td>\n",
              "      <td>Reynoldsburg</td>\n",
              "      <td>Franklin</td>\n",
              "      <td>OH</td>\n",
              "      <td>37.9</td>\n",
              "      <td>100.0</td>\n",
              "      <td>10.0</td>\n",
              "      <td>Light Rain</td>\n",
              "      <td>False</td>\n",
              "      <td>False</td>\n",
              "      <td>False</td>\n",
              "      <td>False</td>\n",
              "      <td>False</td>\n",
              "      <td>False</td>\n",
              "      <td>False</td>\n",
              "      <td>False</td>\n",
              "      <td>False</td>\n",
              "      <td>False</td>\n",
              "      <td>False</td>\n",
              "      <td>False</td>\n",
              "      <td>False</td>\n",
              "      <td>Night</td>\n",
              "      <td>30.0</td>\n",
              "    </tr>\n",
              "    <tr>\n",
              "      <th>2</th>\n",
              "      <td>A-3</td>\n",
              "      <td>2</td>\n",
              "      <td>39.063148</td>\n",
              "      <td>-84.032608</td>\n",
              "      <td>0.01</td>\n",
              "      <td>State Route 32</td>\n",
              "      <td>R</td>\n",
              "      <td>Williamsburg</td>\n",
              "      <td>Clermont</td>\n",
              "      <td>OH</td>\n",
              "      <td>36.0</td>\n",
              "      <td>100.0</td>\n",
              "      <td>10.0</td>\n",
              "      <td>Overcast</td>\n",
              "      <td>False</td>\n",
              "      <td>False</td>\n",
              "      <td>False</td>\n",
              "      <td>False</td>\n",
              "      <td>False</td>\n",
              "      <td>False</td>\n",
              "      <td>False</td>\n",
              "      <td>False</td>\n",
              "      <td>False</td>\n",
              "      <td>False</td>\n",
              "      <td>False</td>\n",
              "      <td>True</td>\n",
              "      <td>False</td>\n",
              "      <td>Night</td>\n",
              "      <td>30.0</td>\n",
              "    </tr>\n",
              "    <tr>\n",
              "      <th>3</th>\n",
              "      <td>A-4</td>\n",
              "      <td>3</td>\n",
              "      <td>39.747753</td>\n",
              "      <td>-84.205582</td>\n",
              "      <td>0.01</td>\n",
              "      <td>I-75 S</td>\n",
              "      <td>R</td>\n",
              "      <td>Dayton</td>\n",
              "      <td>Montgomery</td>\n",
              "      <td>OH</td>\n",
              "      <td>35.1</td>\n",
              "      <td>96.0</td>\n",
              "      <td>9.0</td>\n",
              "      <td>Mostly Cloudy</td>\n",
              "      <td>False</td>\n",
              "      <td>False</td>\n",
              "      <td>False</td>\n",
              "      <td>False</td>\n",
              "      <td>False</td>\n",
              "      <td>False</td>\n",
              "      <td>False</td>\n",
              "      <td>False</td>\n",
              "      <td>False</td>\n",
              "      <td>False</td>\n",
              "      <td>False</td>\n",
              "      <td>False</td>\n",
              "      <td>False</td>\n",
              "      <td>Night</td>\n",
              "      <td>30.0</td>\n",
              "    </tr>\n",
              "    <tr>\n",
              "      <th>4</th>\n",
              "      <td>A-5</td>\n",
              "      <td>2</td>\n",
              "      <td>39.627781</td>\n",
              "      <td>-84.188354</td>\n",
              "      <td>0.01</td>\n",
              "      <td>Miamisburg Centerville Rd</td>\n",
              "      <td>R</td>\n",
              "      <td>Dayton</td>\n",
              "      <td>Montgomery</td>\n",
              "      <td>OH</td>\n",
              "      <td>36.0</td>\n",
              "      <td>89.0</td>\n",
              "      <td>6.0</td>\n",
              "      <td>Mostly Cloudy</td>\n",
              "      <td>False</td>\n",
              "      <td>False</td>\n",
              "      <td>False</td>\n",
              "      <td>False</td>\n",
              "      <td>False</td>\n",
              "      <td>False</td>\n",
              "      <td>False</td>\n",
              "      <td>False</td>\n",
              "      <td>False</td>\n",
              "      <td>False</td>\n",
              "      <td>False</td>\n",
              "      <td>True</td>\n",
              "      <td>False</td>\n",
              "      <td>Day</td>\n",
              "      <td>30.0</td>\n",
              "    </tr>\n",
              "  </tbody>\n",
              "</table>\n",
              "</div>"
            ],
            "text/plain": [
              "    ID  Severity  Start_Lat  ...  Turning_Loop  Sunrise_Sunset Duration\n",
              "0  A-1         3  39.865147  ...         False           Night    314.0\n",
              "1  A-2         2  39.928059  ...         False           Night     30.0\n",
              "2  A-3         2  39.063148  ...         False           Night     30.0\n",
              "3  A-4         3  39.747753  ...         False           Night     30.0\n",
              "4  A-5         2  39.627781  ...         False             Day     30.0\n",
              "\n",
              "[5 rows x 29 columns]"
            ]
          },
          "metadata": {
            "tags": []
          },
          "execution_count": 9
        }
      ]
    },
    {
      "cell_type": "markdown",
      "metadata": {
        "id": "3k_VdsJNW7sR"
      },
      "source": [
        "Kada su u pitanju obelezja koja predstavljaju boolean podatke, kao i izlaz, odnosno labele, vizuelno se moze prikazati procenat merenja koji pripada jednoj, odnosno drugoj vrednosti i pripadnost klasama. Na osnovu ovih informacija moze se zakljuciti da li su klase balansirane ili nisu.\n",
        "\n",
        "Kada je u pitanju tezina saobracajne nesrece koja predstavlja izlaz modela, labele su raspodeljene od 1 do 4, gde labela 1 predstavlja najlaksu nesrecu, a labela 4 najtezu. Sa datog grafika se moze uociti da su klase nebalansirane i da je najvise zastupljena klasa sa tezinom nesrece 2, dok je tezina nesrece 1 najmanje zastupljena, kao i klasa tezine 4. Takodje, kada su druga obelezja u pitanju, mozemo videti odnos True i False vrednosti."
      ]
    },
    {
      "cell_type": "code",
      "metadata": {
        "colab": {
          "base_uri": "https://localhost:8080/",
          "height": 1000
        },
        "id": "gDzIwnskqL0t",
        "outputId": "a098ffa8-52d6-4d32-cd22-6baecc92de9c"
      },
      "source": [
        "import seaborn as sns\n",
        "podaci.Severity.plot(kind='hist')\n",
        "plt.xlabel('Severity')\n",
        "plt.ylabel('Broj nezgoda odredjenog tipa')\n",
        "plt.show()\n",
        "\n",
        "plt.figure()\n",
        "sns.countplot(x='Bump', hue='Bump',data=podaci)\n",
        "plt.figure()\n",
        "sns.countplot(x='Crossing', hue='Crossing',data=podaci)\n",
        "plt.figure()\n",
        "sns.countplot(x='Give_Way', hue='Give_Way',data=podaci)\n",
        "plt.figure()\n",
        "sns.countplot(x='Junction', hue='Junction',data=podaci)\n",
        "plt.figure()\n",
        "sns.countplot(x='Traffic_Signal', hue='Traffic_Signal',data=podaci)\n",
        "plt.figure()\n",
        "sns.countplot(x='No_Exit', hue='No_Exit',data=podaci)\n",
        "plt.figure()\n",
        "sns.countplot(x='Railway', hue='Railway',data=podaci)\n",
        "plt.figure()\n",
        "sns.countplot(x='Stop', hue='Stop',data=podaci)\n",
        "plt.figure()\n",
        "sns.countplot(x='Sunrise_Sunset', hue='Sunrise_Sunset',data=podaci)"
      ],
      "execution_count": null,
      "outputs": [
        {
          "output_type": "display_data",
          "data": {
            "image/png": "[encoded data removed]",
            "text/plain": [
              "<Figure size 432x288 with 1 Axes>"
            ]
          },
          "metadata": {
            "tags": [],
            "needs_background": "light"
          }
        },
        {
          "output_type": "display_data",
          "data": {
            "image/png": "[encoded data removed]",
            "text/plain": [
              "<Figure size 432x288 with 1 Axes>"
            ]
          },
          "metadata": {
            "tags": [],
            "needs_background": "light"
          }
        },
        {
          "output_type": "display_data",
          "data": {
            "image/png": "[encoded data removed]",
            "text/plain": [
              "<Figure size 432x288 with 1 Axes>"
            ]
          },
          "metadata": {
            "tags": [],
            "needs_background": "light"
          }
        },
        {
          "output_type": "display_data",
          "data": {
            "image/png": "[encoded data removed]",
            "text/plain": [
              "<Figure size 432x288 with 1 Axes>"
            ]
          },
          "metadata": {
            "tags": [],
            "needs_background": "light"
          }
        },
        {
          "output_type": "display_data",
          "data": {
            "image/png": "[encoded data removed]",
            "text/plain": [
              "<Figure size 432x288 with 1 Axes>"
            ]
          },
          "metadata": {
            "tags": [],
            "needs_background": "light"
          }
        },
        {
          "output_type": "display_data",
          "data": {
            "image/png": "[encoded data removed]",
            "text/plain": [
              "<Figure size 432x288 with 1 Axes>"
            ]
          },
          "metadata": {
            "tags": [],
            "needs_background": "light"
          }
        },
        {
          "output_type": "display_data",
          "data": {
            "image/png": "[encoded data removed]",
            "text/plain": [
              "<Figure size 432x288 with 1 Axes>"
            ]
          },
          "metadata": {
            "tags": [],
            "needs_background": "light"
          }
        },
        {
          "output_type": "display_data",
          "data": {
            "image/png": "[encoded data removed]",
            "text/plain": [
              "<Figure size 432x288 with 1 Axes>"
            ]
          },
          "metadata": {
            "tags": [],
            "needs_background": "light"
          }
        },
        {
          "output_type": "display_data",
          "data": {
            "image/png": "[encoded data removed]",
            "text/plain": [
              "<Figure size 432x288 with 1 Axes>"
            ]
          },
          "metadata": {
            "tags": [],
            "needs_background": "light"
          }
        },
        {
          "output_type": "display_data",
          "data": {
            "image/png": "[encoded data removed]",
            "text/plain": [
              "<Figure size 432x288 with 1 Axes>"
            ]
          },
          "metadata": {
            "tags": [],
            "needs_background": "light"
          }
        }
      ]
    },
    {
      "cell_type": "markdown",
      "metadata": {
        "id": "UXNiOfzYfFSp"
      },
      "source": [
        "Radi uvida u informativnost podataka mozemo uraditi korelaciju izmedju obelezja koji predstavljaju brojeve i videti njihovu povezanost. Sto je koeficijent korelacije veci izmedju tih obelezja, ona su slicnija, odnosno nose slicnu kolicinu informacija. Sa datog grafika se moze videti da je maksimalni koeficijent korelacije po apsolutnoj vrednosti 0.43 sto je prihvatljivi koeficijent korelacije kada su ova obelezja u pitanju."
      ]
    },
    {
      "cell_type": "code",
      "metadata": {
        "colab": {
          "base_uri": "https://localhost:8080/",
          "height": 608
        },
        "id": "3AKYiD3PrlSt",
        "outputId": "b71fe06a-06ed-4d07-8dca-973bf4119aa4"
      },
      "source": [
        "plt.figure(figsize = (9,9))\n",
        "sns.heatmap(podaci[['Severity','Start_Lat','Start_Lng','Distance(mi)','Temperature(F)','Humidity(%)','Visibility(mi)','Duration']].corr(), annot = True)\n",
        "plt.show()"
      ],
      "execution_count": null,
      "outputs": [
        {
          "output_type": "display_data",
          "data": {
            "image/png": "[encoded data removed]",
            "text/plain": [
              "<Figure size 648x648 with 2 Axes>"
            ]
          },
          "metadata": {
            "tags": [],
            "needs_background": "light"
          }
        }
      ]
    },
    {
      "cell_type": "markdown",
      "metadata": {
        "id": "2EpDRcU4h0oI"
      },
      "source": [
        "Sada je potrebno konvertovati obelezja tipa object u obelezja koja se mogu koristiti u modelu. TO se moze obaviti uz pomoc funkcije **get_dummies()** u okviru pandas biblioteke. Ovim putem se datim obelezjima dodeljuju vrednosti 0 ili 1 u zavisnosti od kolicine podataka koja se posmatra. Kada je u pitanju informacija o drzavi, kao prag za odredjivanje labele koju treba dodeliti koristi se broj saobracajnih nezgoda koji se dogodio u tim drzavama."
      ]
    },
    {
      "cell_type": "code",
      "metadata": {
        "colab": {
          "base_uri": "https://localhost:8080/"
        },
        "id": "UaxDO4GLsBX9",
        "outputId": "6fae4f07-bc5c-4539-eaeb-ecb881b1a6c7"
      },
      "source": [
        "State=podaci[['State']]\n",
        "State=pd.get_dummies(State,drop_first=True)\n",
        "\n",
        "Side=podaci[['Side']]\n",
        "Side=pd.get_dummies(Side,drop_first=True)\n",
        "\n",
        "Sunrise_Sunset=podaci[['Sunrise_Sunset']]\n",
        "Sunrise_Sunset=pd.get_dummies(Sunrise_Sunset,drop_first=True)\n",
        "\n",
        "Weather_Condition=podaci[['Weather_Condition']]\n",
        "top46=[x for x in podaci.Weather_Condition.value_counts().sort_values(ascending=False).head(8).index]\n",
        "for label in top46:\n",
        "    Weather_Condition[label]=np.where(podaci['Weather_Condition']==label,1,0)\n",
        "Weather_Condition.drop(['Weather_Condition'],axis=1,inplace=True)\n",
        "\n",
        "City=podaci[['City']]\n",
        "top46=[x for x in podaci.City.value_counts().sort_values(ascending=False).head(46).index]\n",
        "for label in top46:\n",
        "    City[label]=np.where(podaci['City']==label,1,0)\n",
        "City.drop(['City'],axis=1,inplace=True)\n",
        "\n",
        "podaci.drop(['ID','Start_Lat','Start_Lng','Street','Side','City','County','State','Weather_Condition','Sunrise_Sunset'],axis=1,inplace=True)\n",
        "podaci1=pd.concat([podaci,Weather_Condition,Side,Sunrise_Sunset],axis=1)\n",
        "podaci2=podaci1.head(500000) "
      ],
      "execution_count": null,
      "outputs": [
        {
          "output_type": "stream",
          "text": [
            "/usr/local/lib/python3.6/dist-packages/ipykernel_launcher.py:13: SettingWithCopyWarning: \n",
            "A value is trying to be set on a copy of a slice from a DataFrame.\n",
            "Try using .loc[row_indexer,col_indexer] = value instead\n",
            "\n",
            "See the caveats in the documentation: https://pandas.pydata.org/pandas-docs/stable/user_guide/indexing.html#returning-a-view-versus-a-copy\n",
            "  del sys.path[0]\n",
            "/usr/local/lib/python3.6/dist-packages/pandas/core/frame.py:4174: SettingWithCopyWarning: \n",
            "A value is trying to be set on a copy of a slice from a DataFrame\n",
            "\n",
            "See the caveats in the documentation: https://pandas.pydata.org/pandas-docs/stable/user_guide/indexing.html#returning-a-view-versus-a-copy\n",
            "  errors=errors,\n",
            "/usr/local/lib/python3.6/dist-packages/ipykernel_launcher.py:19: SettingWithCopyWarning: \n",
            "A value is trying to be set on a copy of a slice from a DataFrame.\n",
            "Try using .loc[row_indexer,col_indexer] = value instead\n",
            "\n",
            "See the caveats in the documentation: https://pandas.pydata.org/pandas-docs/stable/user_guide/indexing.html#returning-a-view-versus-a-copy\n"
          ],
          "name": "stderr"
        }
      ]
    },
    {
      "cell_type": "markdown",
      "metadata": {
        "id": "Pf8ZUcD7jjSY"
      },
      "source": [
        "Kada je pretprocesiranje zavrseno, mozemo koristiti dobijena obelezja za treniranje zeljenih modela. Dobijamo matricu X koja predstavlja obelezja i matricu y koja predstavlja labele, odnosno zeljene izlaze. Nakon toga vrsimo podelu na trening i test skup podataka koji ce se koristiti za treniranje modela i njihovu predikciju."
      ]
    },
    {
      "cell_type": "code",
      "metadata": {
        "id": "cQv_6H9QtZJl"
      },
      "source": [
        "from sklearn import preprocessing\n",
        "from sklearn.model_selection import train_test_split\n",
        "from sklearn.neighbors import KNeighborsClassifier\n",
        "from sklearn.metrics import accuracy_score\n",
        "from sklearn.metrics import f1_score\n",
        "from sklearn.tree import DecisionTreeClassifier\n",
        "from sklearn.linear_model import LogisticRegression\n",
        "from sklearn.metrics import confusion_matrix  \n",
        "from sklearn import svm\n",
        "from sklearn.metrics import classification_report\n",
        "import itertools\n",
        "\n",
        "X=podaci2.drop(['Severity'],axis=1)\n",
        "X = preprocessing.StandardScaler().fit(X).transform(X.astype(float))\n",
        "y=podaci2['Severity']\n",
        "X_train, X_test, y_train, y_test = train_test_split( X, y, test_size=0.2, random_state=4)"
      ],
      "execution_count": null,
      "outputs": []
    },
    {
      "cell_type": "markdown",
      "metadata": {
        "id": "xjq02HxXkjoJ"
      },
      "source": [
        "Prvi algoritam koji ce se koristiti nije u sklopu predmeta obradjen, ali se nalazi u sklopu izabranog projekta, pa ce biti ubacen u razmatranje, a to je KNN klasifikator koji se bazira na principu k najblizih suseda. Za velicinu K uzete su vrednosti od 1 do 10, gde se za najbolju vrednost pokazala vrednost 7, a ponekad i vrednost 9. Kada je u pitanju tacnost modela, ona se krece oko vrenodsti 67.2% dok se F1 score krece oko vrednosti 67.07%."
      ]
    },
    {
      "cell_type": "code",
      "metadata": {
        "colab": {
          "base_uri": "https://localhost:8080/"
        },
        "id": "dhEJ3US7uAnM",
        "outputId": "2bc1e861-ab50-4c9c-9577-864058ac6a14"
      },
      "source": [
        "l={}\n",
        "for k in range(1,10):\n",
        "    nknn=KNeighborsClassifier(n_neighbors=k).fit(X_train,y_train)\n",
        "    ypred=nknn.predict(X_test)\n",
        "    accuracy=accuracy_score(y_test,ypred)\n",
        "    l[k]=accuracy\n",
        "\n",
        "best_k = max(l, key=l.get)\n",
        "nknn=KNeighborsClassifier(n_neighbors=best_k).fit(X_train,y_train)\n",
        "ypred=nknn.predict(X_test)\n",
        "print('Vrednost najboljeg parametra K:'+str(best_k))\n",
        "print('Accuracy:'+str(accuracy_score(y_test,ypred)))\n",
        "print('F1 score:'+str(f1_score(y_test,ypred,average='weighted')))"
      ],
      "execution_count": null,
      "outputs": [
        {
          "output_type": "stream",
          "text": [
            "{1: 0.65419, 2: 0.65873, 3: 0.6668, 4: 0.6654, 5: 0.67106, 6: 0.6685, 7: 0.67207, 8: 0.66839, 9: 0.67247}\n",
            "Best K for KNN model :7\n",
            "Corresponding Accuracy: 0.67207\n",
            "f1 score: 0.6707840478582769\n"
          ],
          "name": "stdout"
        }
      ]
    },
    {
      "cell_type": "markdown",
      "metadata": {
        "id": "rc45VPjsoz2P"
      },
      "source": [
        "Drugi algoritam koji se posmatra je algoritam baziran na stablima odlucivanja. Eksperimentalnim putem, proverom raznih kombinacija parametara, dosao sam do zakljucka da su najbolji rezultati dobijeni za dubinu 4. Tacnost se krece oko vrednosti 67.54% dok se F1 score krece oko vrednosti 67.52%."
      ]
    },
    {
      "cell_type": "code",
      "metadata": {
        "colab": {
          "base_uri": "https://localhost:8080/"
        },
        "id": "OJBLG_qaAQER",
        "outputId": "fa08bd30-3531-4519-9fd9-66bb37565fc4"
      },
      "source": [
        "tree = DecisionTreeClassifier(criterion=\"entropy\", max_depth = 4)\n",
        "tree=tree.fit(X_train,y_train)\n",
        "tree.score(X_test,y_test)\n",
        "ypred=tree.predict(X_test)\n",
        "print('Accuracy:'+str(accuracy_score(y_test,ypred)))\n",
        "print('F1 score:'+str(f1_score(y_test,ypred,average='weighted')))"
      ],
      "execution_count": null,
      "outputs": [
        {
          "output_type": "stream",
          "text": [
            "Accuracy:0.6754\n",
            "F1 score:0.67519080668298\n"
          ],
          "name": "stdout"
        }
      ]
    },
    {
      "cell_type": "markdown",
      "metadata": {
        "id": "VAw7QgXPpMgv"
      },
      "source": [
        "Treci algoritam koji se posmatra je logisticka regresija. Takodje, eksperimentalnim putem dobijen je parametar C koji predstavlja konstantu regularizacije i on iznosi u ovom slucaju 0.01. Tacnost ovog algoritma krece se oko vrednosti 67.08% dok je F1 score oko 67.21%."
      ]
    },
    {
      "cell_type": "code",
      "metadata": {
        "id": "oCUtOdd3AaJR",
        "colab": {
          "base_uri": "https://localhost:8080/"
        },
        "outputId": "08df6fc1-b93a-4586-908e-a92e993fb1a5"
      },
      "source": [
        "model= LogisticRegression(C=0.01, solver='liblinear').fit(X_train,y_train)\n",
        "model.score(X_test,y_test)\n",
        "ypred=model.predict(X_test)\n",
        "print('Accuracy:'+str(accuracy_score(y_test,ypred)))\n",
        "print('F1 score:'+str(f1_score(y_test,ypred,average='weighted')))"
      ],
      "execution_count": null,
      "outputs": [
        {
          "output_type": "stream",
          "text": [
            "Accuracy:0.67088\n",
            "F1 score:0.6720916706047082\n"
          ],
          "name": "stdout"
        }
      ]
    },
    {
      "cell_type": "markdown",
      "metadata": {
        "id": "FDQnMOO-pcm2"
      },
      "source": [
        "Cetvrti i poslednji algoritam je algoritam Support Vector Machines. Kada je on u pitanju, korisceni kernel je gausovski kernel koji je davao najbolje rezultate. Tacnost se krece u opsegu 67.74%, dok je vrednost F1 score oko 67.32%."
      ]
    },
    {
      "cell_type": "code",
      "metadata": {
        "id": "d85M8RNVAvqS",
        "colab": {
          "base_uri": "https://localhost:8080/"
        },
        "outputId": "d493d191-9b71-4a90-e20a-8e70f9c94522"
      },
      "source": [
        "clf = svm.SVC(kernel='rbf')\n",
        "clf.fit(X_test, y_test)\n",
        "clf.score(X_test, y_test)\n",
        "ypred=clf.predict(X_test)\n",
        "print('F1 score:' +str(f1_score(y_test,ypred,average='weighted')))\n",
        "print('Accuracy:'+str(accuracy_score(y_test,ypred)))"
      ],
      "execution_count": null,
      "outputs": [
        {
          "output_type": "stream",
          "text": [
            "F1 score:0.6774341492949696\n",
            "Accuracy:0.67319\n"
          ],
          "name": "stdout"
        }
      ]
    }
  ]
}